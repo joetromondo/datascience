{
 "cells": [
  {
   "cell_type": "code",
   "execution_count": 170,
   "metadata": {},
   "outputs": [],
   "source": [
    "from imutils import face_utils\n",
    "import dlib\n",
    "import cv2\n",
    "import numpy\n",
    "import matplotlib.pyplot as plt\n",
    "%matplotlib inline\n",
    "\n"
   ]
  },
  {
   "cell_type": "code",
   "execution_count": 171,
   "metadata": {},
   "outputs": [],
   "source": [
    "p = \"shape_predictor_68_face_landmarks.dat\"\n",
    "detector = dlib.get_frontal_face_detector()\n",
    "predictor = dlib.shape_predictor(p)"
   ]
  },
  {
   "cell_type": "code",
   "execution_count": 194,
   "metadata": {},
   "outputs": [
    {
     "name": "stdout",
     "output_type": "stream",
     "text": [
      "Libera o Video (Fim)\n"
     ]
    }
   ],
   "source": [
    "vid = cv2.VideoCapture(\"albertoVideo.mp4\")\n",
    "\n",
    "try:\n",
    "    while(True):\n",
    "        \n",
    "        ret, frame = vid.read()\n",
    "        \n",
    "        if not ret:\n",
    "\n",
    "            vid.release()\n",
    "            \n",
    "            print(\"Libera o Video (Fim)\")\n",
    "            break        \n",
    "        \n",
    "        frame = cv2.rotate(frame, cv2.ROTATE_90_COUNTERCLOCKWISE)\n",
    "    \n",
    "        gray = cv2.cvtColor(frame, cv2.COLOR_BGR2GRAY)\n",
    "        \n",
    "        rects = detector(gray, 0)\n",
    "   \n",
    "        \n",
    "        for rect in rects:\n",
    "            shape = predictor(gray, rect)\n",
    "            shape = face_utils.shape_to_np(shape)\n",
    "            for (x, y) in shape:\n",
    "                cv2.circle(frame, (x, y), 3, (0, 0, 255), -1)\n",
    "\n",
    "\n",
    "        frame = cv2.cvtColor(frame, cv2.COLOR_BGR2RGB)       \n",
    "       \n",
    "        axis('off')\n",
    "        title(\"Detecta Face Alberto\")\n",
    "        imshow(frame)\n",
    "        show()\n",
    "        clear_output(wait=True)\n",
    "except KeyboardInterrupt:\n",
    "    vid.release()\n",
    "    print(\"Libera Video (Interrompido)\")"
   ]
  }
 ],
 "metadata": {
  "kernelspec": {
   "display_name": "Python 3",
   "language": "python",
   "name": "python3"
  },
  "language_info": {
   "codemirror_mode": {
    "name": "ipython",
    "version": 3
   },
   "file_extension": ".py",
   "mimetype": "text/x-python",
   "name": "python",
   "nbconvert_exporter": "python",
   "pygments_lexer": "ipython3",
   "version": "3.6.9"
  }
 },
 "nbformat": 4,
 "nbformat_minor": 4
}
